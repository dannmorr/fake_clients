{
 "cells": [
  {
   "cell_type": "markdown",
   "metadata": {},
   "source": [
    "# Creating client profiles from Faker"
   ]
  },
  {
   "cell_type": "code",
   "execution_count": 1,
   "metadata": {},
   "outputs": [],
   "source": [
    "#imports\n",
    "import pandas as pd\n",
    "import numpy as np\n",
    "\n",
    "#!pip install faker"
   ]
  },
  {
   "cell_type": "code",
   "execution_count": 97,
   "metadata": {},
   "outputs": [],
   "source": [
    "from faker import Faker\n",
    "from faker.providers.person.en import Provider as Name\n",
    "from faker.providers.date_time import Provider as Date\n",
    "\n",
    "fake = Faker()\n",
    "Faker.seed(19)"
   ]
  },
  {
   "cell_type": "code",
   "execution_count": 90,
   "metadata": {},
   "outputs": [],
   "source": [
    "#for i in range(10):\n",
    "#    fake.name(),\n",
    "#    fake.date_of_birth(minimum_age = 60, maximum_age=90),\n",
    "#    fake.date_between_dates()"
   ]
  },
  {
   "cell_type": "code",
   "execution_count": 91,
   "metadata": {},
   "outputs": [],
   "source": [
    "df = pd.DataFrame(columns=['first_name', 'last_name', 'date_of_birth', 'start_date', 'end_date'])"
   ]
  },
  {
   "cell_type": "code",
   "execution_count": 92,
   "metadata": {},
   "outputs": [],
   "source": [
    "def fake_names(name_type, size):\n",
    "    \"\"\"\n",
    "    Generate n-length ndarray of person names.\n",
    "    name_type: a string, either first_names or last_names\n",
    "    \"\"\"\n",
    "    names = getattr(Name, name_type)\n",
    "    return np.random.choice(names, size=size)\n"
   ]
  },
  {
   "cell_type": "code",
   "execution_count": 120,
   "metadata": {},
   "outputs": [],
   "source": [
    "def fake_dob(date_type, size):\n",
    "    for i in range(size):\n",
    "        printfake.date_between(start_date='-90y', end_date='-60y')\n",
    "        \n",
    "\n",
    "   # dob = fake.date_between(start_date='-6y', end_date='-2y')\n",
    "   # return np.random.choice(dob, size=size)"
   ]
  },
  {
   "cell_type": "code",
   "execution_count": 124,
   "metadata": {},
   "outputs": [],
   "source": [
    "size=10"
   ]
  },
  {
   "cell_type": "code",
   "execution_count": 125,
   "metadata": {},
   "outputs": [],
   "source": [
    "df['first_name'] = fake_names('first_names', size)\n",
    "df['last_name'] = fake_names('last_names', size) \n",
    "df['date_of_birth']= fake_dob('date_of_birth', size)\n",
    "df['start_date'] = fake.date_between(start_date='-6y', end_date='-2y')\n",
    "df['end_date'] = fake.date_between(start_date='-1y', end_date='today')"
   ]
  },
  {
   "cell_type": "code",
   "execution_count": 126,
   "metadata": {},
   "outputs": [
    {
     "data": {
      "text/html": [
       "<div>\n",
       "<style scoped>\n",
       "    .dataframe tbody tr th:only-of-type {\n",
       "        vertical-align: middle;\n",
       "    }\n",
       "\n",
       "    .dataframe tbody tr th {\n",
       "        vertical-align: top;\n",
       "    }\n",
       "\n",
       "    .dataframe thead th {\n",
       "        text-align: right;\n",
       "    }\n",
       "</style>\n",
       "<table border=\"1\" class=\"dataframe\">\n",
       "  <thead>\n",
       "    <tr style=\"text-align: right;\">\n",
       "      <th></th>\n",
       "      <th>first_name</th>\n",
       "      <th>last_name</th>\n",
       "      <th>date_of_birth</th>\n",
       "      <th>start_date</th>\n",
       "      <th>end_date</th>\n",
       "    </tr>\n",
       "  </thead>\n",
       "  <tbody>\n",
       "    <tr>\n",
       "      <th>0</th>\n",
       "      <td>Patricia</td>\n",
       "      <td>Ferry</td>\n",
       "      <td>1934-05-25</td>\n",
       "      <td>2018-01-08</td>\n",
       "      <td>2020-01-29</td>\n",
       "    </tr>\n",
       "    <tr>\n",
       "      <th>1</th>\n",
       "      <td>Evette</td>\n",
       "      <td>Quitzon</td>\n",
       "      <td>1934-05-25</td>\n",
       "      <td>2018-01-08</td>\n",
       "      <td>2020-01-29</td>\n",
       "    </tr>\n",
       "    <tr>\n",
       "      <th>2</th>\n",
       "      <td>Thurston</td>\n",
       "      <td>Labadie</td>\n",
       "      <td>1934-05-25</td>\n",
       "      <td>2018-01-08</td>\n",
       "      <td>2020-01-29</td>\n",
       "    </tr>\n",
       "    <tr>\n",
       "      <th>3</th>\n",
       "      <td>Kisha</td>\n",
       "      <td>Rau</td>\n",
       "      <td>1934-05-25</td>\n",
       "      <td>2018-01-08</td>\n",
       "      <td>2020-01-29</td>\n",
       "    </tr>\n",
       "    <tr>\n",
       "      <th>4</th>\n",
       "      <td>Paloma</td>\n",
       "      <td>Eichmann</td>\n",
       "      <td>1934-05-25</td>\n",
       "      <td>2018-01-08</td>\n",
       "      <td>2020-01-29</td>\n",
       "    </tr>\n",
       "    <tr>\n",
       "      <th>5</th>\n",
       "      <td>Cammie</td>\n",
       "      <td>Sauer</td>\n",
       "      <td>1934-05-25</td>\n",
       "      <td>2018-01-08</td>\n",
       "      <td>2020-01-29</td>\n",
       "    </tr>\n",
       "    <tr>\n",
       "      <th>6</th>\n",
       "      <td>Opal</td>\n",
       "      <td>Ruecker</td>\n",
       "      <td>1934-05-25</td>\n",
       "      <td>2018-01-08</td>\n",
       "      <td>2020-01-29</td>\n",
       "    </tr>\n",
       "    <tr>\n",
       "      <th>7</th>\n",
       "      <td>Jennings</td>\n",
       "      <td>Wintheiser</td>\n",
       "      <td>1934-05-25</td>\n",
       "      <td>2018-01-08</td>\n",
       "      <td>2020-01-29</td>\n",
       "    </tr>\n",
       "    <tr>\n",
       "      <th>8</th>\n",
       "      <td>Theodore</td>\n",
       "      <td>Witting</td>\n",
       "      <td>1934-05-25</td>\n",
       "      <td>2018-01-08</td>\n",
       "      <td>2020-01-29</td>\n",
       "    </tr>\n",
       "    <tr>\n",
       "      <th>9</th>\n",
       "      <td>Berkley</td>\n",
       "      <td>Thompson</td>\n",
       "      <td>1934-05-25</td>\n",
       "      <td>2018-01-08</td>\n",
       "      <td>2020-01-29</td>\n",
       "    </tr>\n",
       "  </tbody>\n",
       "</table>\n",
       "</div>"
      ],
      "text/plain": [
       "  first_name   last_name date_of_birth  start_date    end_date\n",
       "0   Patricia       Ferry    1934-05-25  2018-01-08  2020-01-29\n",
       "1     Evette     Quitzon    1934-05-25  2018-01-08  2020-01-29\n",
       "2   Thurston     Labadie    1934-05-25  2018-01-08  2020-01-29\n",
       "3      Kisha         Rau    1934-05-25  2018-01-08  2020-01-29\n",
       "4     Paloma    Eichmann    1934-05-25  2018-01-08  2020-01-29\n",
       "5     Cammie       Sauer    1934-05-25  2018-01-08  2020-01-29\n",
       "6       Opal     Ruecker    1934-05-25  2018-01-08  2020-01-29\n",
       "7   Jennings  Wintheiser    1934-05-25  2018-01-08  2020-01-29\n",
       "8   Theodore     Witting    1934-05-25  2018-01-08  2020-01-29\n",
       "9    Berkley    Thompson    1934-05-25  2018-01-08  2020-01-29"
      ]
     },
     "execution_count": 126,
     "metadata": {},
     "output_type": "execute_result"
    }
   ],
   "source": [
    "df.head(10)"
   ]
  },
  {
   "cell_type": "code",
   "execution_count": null,
   "metadata": {},
   "outputs": [],
   "source": []
  },
  {
   "cell_type": "code",
   "execution_count": 119,
   "metadata": {},
   "outputs": [
    {
     "ename": "SyntaxError",
     "evalue": "invalid syntax (<ipython-input-119-a02556b6fef1>, line 1)",
     "output_type": "error",
     "traceback": [
      "\u001b[0;36m  File \u001b[0;32m\"<ipython-input-119-a02556b6fef1>\"\u001b[0;36m, line \u001b[0;32m1\u001b[0m\n\u001b[0;31m    fake.profile(fields=)\u001b[0m\n\u001b[0m                        ^\u001b[0m\n\u001b[0;31mSyntaxError\u001b[0m\u001b[0;31m:\u001b[0m invalid syntax\n"
     ]
    }
   ],
   "source": [
    "fake.profile(fields=)"
   ]
  },
  {
   "cell_type": "code",
   "execution_count": null,
   "metadata": {},
   "outputs": [],
   "source": []
  }
 ],
 "metadata": {
  "kernelspec": {
   "display_name": "grad-env",
   "language": "python",
   "name": "grad-env"
  },
  "language_info": {
   "codemirror_mode": {
    "name": "ipython",
    "version": 3
   },
   "file_extension": ".py",
   "mimetype": "text/x-python",
   "name": "python",
   "nbconvert_exporter": "python",
   "pygments_lexer": "ipython3",
   "version": "3.7.4"
  },
  "toc": {
   "base_numbering": 1,
   "nav_menu": {},
   "number_sections": true,
   "sideBar": true,
   "skip_h1_title": false,
   "title_cell": "Table of Contents",
   "title_sidebar": "Contents",
   "toc_cell": false,
   "toc_position": {},
   "toc_section_display": true,
   "toc_window_display": false
  }
 },
 "nbformat": 4,
 "nbformat_minor": 4
}
