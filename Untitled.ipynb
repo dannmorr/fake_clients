{
 "cells": [
  {
   "cell_type": "markdown",
   "metadata": {},
   "source": [
    "# Creating client profiles from Faker"
   ]
  },
  {
   "cell_type": "code",
   "execution_count": 1,
   "metadata": {},
   "outputs": [],
   "source": [
    "#imports\n",
    "import pandas as pd\n",
    "import numpy as np\n",
    "from faker import Faker"
   ]
  },
  {
   "cell_type": "code",
   "execution_count": 2,
   "metadata": {},
   "outputs": [],
   "source": [
    "fake = Faker()"
   ]
  },
  {
   "cell_type": "code",
   "execution_count": 50,
   "metadata": {},
   "outputs": [
    {
     "name": "stdout",
     "output_type": "stream",
     "text": [
      "Kenneth Bird 1947-05-06\n",
      "Marissa Skinner 1930-03-28\n",
      "Allen Donaldson 1938-04-27\n",
      "Jesse James 1946-11-15\n",
      "Erica Jones 1943-07-29\n",
      "Matthew Cummings 1949-04-25\n",
      "Rebecca Franklin 1949-09-12\n",
      "Anthony Fernandez 1933-12-05\n",
      "William Reynolds 1939-05-19\n",
      "Brian Graham 1933-02-05\n"
     ]
    }
   ],
   "source": [
    "for i in range(10):\n",
    "    print(fake.name(), fake.date_of_birth(minimum_age = 60, maximum_age=90))"
   ]
  }
 ],
 "metadata": {
  "kernelspec": {
   "display_name": "Python [conda env:grad-env]",
   "language": "python",
   "name": "conda-env-grad-env-py"
  },
  "language_info": {
   "codemirror_mode": {
    "name": "ipython",
    "version": 3
   },
   "file_extension": ".py",
   "mimetype": "text/x-python",
   "name": "python",
   "nbconvert_exporter": "python",
   "pygments_lexer": "ipython3",
   "version": "3.8.5"
  },
  "toc": {
   "base_numbering": 1,
   "nav_menu": {},
   "number_sections": true,
   "sideBar": true,
   "skip_h1_title": false,
   "title_cell": "Table of Contents",
   "title_sidebar": "Contents",
   "toc_cell": false,
   "toc_position": {},
   "toc_section_display": true,
   "toc_window_display": false
  }
 },
 "nbformat": 4,
 "nbformat_minor": 2
}
